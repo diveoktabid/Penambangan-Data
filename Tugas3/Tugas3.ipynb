{
 "cells": [
  {
   "cell_type": "markdown",
   "metadata": {},
   "source": [
    "# Data Preprocessing libraries #"
   ]
  },
  {
   "cell_type": "markdown",
   "metadata": {},
   "source": [
    "Nama     : Dive Oktabid Fikhri\n",
    "\n",
    "Nim      : A11.2022.14202\n",
    "\n",
    "Kelompok : A11.4508"
   ]
  },
  {
   "cell_type": "markdown",
   "metadata": {},
   "source": [
    "Importing the Libraries"
   ]
  },
  {
   "cell_type": "code",
   "execution_count": 70,
   "metadata": {},
   "outputs": [],
   "source": [
    "import numpy as np\n",
    "import matplotlib.pyplot as plt \n",
    "import pandas as pd"
   ]
  },
  {
   "cell_type": "markdown",
   "metadata": {},
   "source": [
    "Importing the dataset"
   ]
  },
  {
   "cell_type": "code",
   "execution_count": 71,
   "metadata": {},
   "outputs": [],
   "source": [
    "dataset = pd.read_csv('Data.csv')\n",
    "x = dataset.iloc[:, :-1].values\n",
    "y = dataset.iloc[:, -1].values"
   ]
  },
  {
   "cell_type": "code",
   "execution_count": 72,
   "metadata": {},
   "outputs": [
    {
     "name": "stdout",
     "output_type": "stream",
     "text": [
      "[[1 'Polygon' 2012 3500000]\n",
      " [2 'Wimcycle' 2011 1000000]\n",
      " [3 'United' 2013 2300000]\n",
      " [4 'Polygon' 2023 6000000]\n",
      " [5 'Wimcycle' 2016 3400000]\n",
      " [6 'United' 2022 1200000]\n",
      " [7 'Polygon' 2019 9000000]\n",
      " [8 'Wimcycle' 2017 5400000]\n",
      " [9 'United' 2013 4500000]\n",
      " [10 'Polygon' 2014 1100000]]\n"
     ]
    }
   ],
   "source": [
    "print(x)"
   ]
  },
  {
   "cell_type": "markdown",
   "metadata": {},
   "source": [
    "Splitting the dataset into the Training set and Test set"
   ]
  },
  {
   "cell_type": "code",
   "execution_count": 73,
   "metadata": {},
   "outputs": [],
   "source": [
    "from sklearn.model_selection import train_test_split\n",
    "x_train, x_test, y_train, y_test = train_test_split(x, y, test_size= 0.2, random_state= 1)"
   ]
  },
  {
   "cell_type": "markdown",
   "metadata": {},
   "source": [
    "Menghilangkan Missing Value (nan)"
   ]
  },
  {
   "cell_type": "code",
   "execution_count": 74,
   "metadata": {},
   "outputs": [],
   "source": [
    "from sklearn.impute import SimpleImputer\n",
    "imputer = SimpleImputer(missing_values=np.nan, strategy='most_frequent')\n",
    "imputer.fit(x[:, 1:3])\n",
    "x[:, 1:3] = imputer.transform(x[:, 1:3])"
   ]
  },
  {
   "cell_type": "code",
   "execution_count": 75,
   "metadata": {},
   "outputs": [
    {
     "name": "stdout",
     "output_type": "stream",
     "text": [
      "[[1 'Polygon' 2012 3500000]\n",
      " [2 'Wimcycle' 2011 1000000]\n",
      " [3 'United' 2013 2300000]\n",
      " [4 'Polygon' 2023 6000000]\n",
      " [5 'Wimcycle' 2016 3400000]\n",
      " [6 'United' 2022 1200000]\n",
      " [7 'Polygon' 2019 9000000]\n",
      " [8 'Wimcycle' 2017 5400000]\n",
      " [9 'United' 2013 4500000]\n",
      " [10 'Polygon' 2014 1100000]]\n"
     ]
    }
   ],
   "source": [
    "print(x)"
   ]
  },
  {
   "cell_type": "markdown",
   "metadata": {},
   "source": [
    "Encoding data kategori (Atribut)"
   ]
  },
  {
   "cell_type": "code",
   "execution_count": 76,
   "metadata": {},
   "outputs": [],
   "source": [
    "from sklearn.compose import ColumnTransformer\n",
    "from sklearn.preprocessing import OneHotEncoder\n",
    "ct = ColumnTransformer(transformers=[('encoder', OneHotEncoder(), [0])], remainder='passthrough')\n",
    "x = np.array(ct.fit_transform(x))"
   ]
  },
  {
   "cell_type": "code",
   "execution_count": 77,
   "metadata": {},
   "outputs": [
    {
     "name": "stdout",
     "output_type": "stream",
     "text": [
      "[[1.0 0.0 0.0 0.0 0.0 0.0 0.0 0.0 0.0 0.0 'Polygon' 2012 3500000]\n",
      " [0.0 1.0 0.0 0.0 0.0 0.0 0.0 0.0 0.0 0.0 'Wimcycle' 2011 1000000]\n",
      " [0.0 0.0 1.0 0.0 0.0 0.0 0.0 0.0 0.0 0.0 'United' 2013 2300000]\n",
      " [0.0 0.0 0.0 1.0 0.0 0.0 0.0 0.0 0.0 0.0 'Polygon' 2023 6000000]\n",
      " [0.0 0.0 0.0 0.0 1.0 0.0 0.0 0.0 0.0 0.0 'Wimcycle' 2016 3400000]\n",
      " [0.0 0.0 0.0 0.0 0.0 1.0 0.0 0.0 0.0 0.0 'United' 2022 1200000]\n",
      " [0.0 0.0 0.0 0.0 0.0 0.0 1.0 0.0 0.0 0.0 'Polygon' 2019 9000000]\n",
      " [0.0 0.0 0.0 0.0 0.0 0.0 0.0 1.0 0.0 0.0 'Wimcycle' 2017 5400000]\n",
      " [0.0 0.0 0.0 0.0 0.0 0.0 0.0 0.0 1.0 0.0 'United' 2013 4500000]\n",
      " [0.0 0.0 0.0 0.0 0.0 0.0 0.0 0.0 0.0 1.0 'Polygon' 2014 1100000]]\n"
     ]
    }
   ],
   "source": [
    "print(x)"
   ]
  },
  {
   "cell_type": "markdown",
   "metadata": {},
   "source": [
    "Encoding data kategori (Class / Label)"
   ]
  },
  {
   "cell_type": "code",
   "execution_count": 78,
   "metadata": {},
   "outputs": [],
   "source": [
    "from sklearn.preprocessing import LabelEncoder\n",
    "le = LabelEncoder()\n",
    "y = le.fit_transform(y)"
   ]
  },
  {
   "cell_type": "code",
   "execution_count": 79,
   "metadata": {},
   "outputs": [
    {
     "name": "stdout",
     "output_type": "stream",
     "text": [
      "[1 0 0 1 0 1 1 0 1 0]\n"
     ]
    }
   ],
   "source": [
    "print(y)"
   ]
  },
  {
   "cell_type": "markdown",
   "metadata": {},
   "source": [
    " Membagi dataset ke dalam training set dan test set"
   ]
  },
  {
   "cell_type": "code",
   "execution_count": 80,
   "metadata": {},
   "outputs": [],
   "source": [
    "from sklearn.model_selection import train_test_split\n",
    "x_train, x_test, y_train, y_test = train_test_split(x, y, test_size= 0.2, random_state= 1)"
   ]
  },
  {
   "cell_type": "code",
   "execution_count": 81,
   "metadata": {},
   "outputs": [
    {
     "name": "stdout",
     "output_type": "stream",
     "text": [
      "[[0.0 0.0 0.0 0.0 0.0 0.0 1.0 0.0 0.0 0.0 'Polygon' 2019 9000000]\n",
      " [0.0 0.0 0.0 0.0 1.0 0.0 0.0 0.0 0.0 0.0 'Wimcycle' 2016 3400000]\n",
      " [1.0 0.0 0.0 0.0 0.0 0.0 0.0 0.0 0.0 0.0 'Polygon' 2012 3500000]\n",
      " [0.0 0.0 0.0 1.0 0.0 0.0 0.0 0.0 0.0 0.0 'Polygon' 2023 6000000]\n",
      " [0.0 1.0 0.0 0.0 0.0 0.0 0.0 0.0 0.0 0.0 'Wimcycle' 2011 1000000]\n",
      " [0.0 0.0 0.0 0.0 0.0 0.0 0.0 1.0 0.0 0.0 'Wimcycle' 2017 5400000]\n",
      " [0.0 0.0 0.0 0.0 0.0 0.0 0.0 0.0 1.0 0.0 'United' 2013 4500000]\n",
      " [0.0 0.0 0.0 0.0 0.0 1.0 0.0 0.0 0.0 0.0 'United' 2022 1200000]]\n"
     ]
    }
   ],
   "source": [
    "print(x_train)"
   ]
  },
  {
   "cell_type": "code",
   "execution_count": 82,
   "metadata": {},
   "outputs": [
    {
     "name": "stdout",
     "output_type": "stream",
     "text": [
      "[[0.0 0.0 1.0 0.0 0.0 0.0 0.0 0.0 0.0 0.0 'United' 2013 2300000]\n",
      " [0.0 0.0 0.0 0.0 0.0 0.0 0.0 0.0 0.0 1.0 'Polygon' 2014 1100000]]\n"
     ]
    }
   ],
   "source": [
    "print(x_test)"
   ]
  },
  {
   "cell_type": "code",
   "execution_count": 83,
   "metadata": {},
   "outputs": [
    {
     "name": "stdout",
     "output_type": "stream",
     "text": [
      "[1 0 1 1 0 0 1 1]\n"
     ]
    }
   ],
   "source": [
    "print(y_train)"
   ]
  },
  {
   "cell_type": "code",
   "execution_count": 84,
   "metadata": {},
   "outputs": [
    {
     "name": "stdout",
     "output_type": "stream",
     "text": [
      "[0 0]\n"
     ]
    }
   ],
   "source": [
    "print(y_test)"
   ]
  },
  {
   "cell_type": "markdown",
   "metadata": {},
   "source": [
    " Feature Scaling"
   ]
  },
  {
   "cell_type": "code",
   "execution_count": 85,
   "metadata": {},
   "outputs": [],
   "source": [
    "from sklearn.preprocessing import StandardScaler\n",
    "sc = StandardScaler()\n",
    "x_train[:, 1:3] = sc.fit_transform(x_train[:, 1:3])\n",
    "x_test[:, 1:3] = sc.transform(x_test[:, 1:3])"
   ]
  },
  {
   "cell_type": "code",
   "execution_count": 86,
   "metadata": {},
   "outputs": [
    {
     "name": "stdout",
     "output_type": "stream",
     "text": [
      "[[0.0 -0.3779644730092272 0.0 0.0 0.0 0.0 1.0 0.0 0.0 0.0 'Polygon' 2019\n",
      "  9000000]\n",
      " [0.0 -0.3779644730092272 0.0 0.0 1.0 0.0 0.0 0.0 0.0 0.0 'Wimcycle' 2016\n",
      "  3400000]\n",
      " [1.0 -0.3779644730092272 0.0 0.0 0.0 0.0 0.0 0.0 0.0 0.0 'Polygon' 2012\n",
      "  3500000]\n",
      " [0.0 -0.3779644730092272 0.0 1.0 0.0 0.0 0.0 0.0 0.0 0.0 'Polygon' 2023\n",
      "  6000000]\n",
      " [0.0 2.6457513110645903 0.0 0.0 0.0 0.0 0.0 0.0 0.0 0.0 'Wimcycle' 2011\n",
      "  1000000]\n",
      " [0.0 -0.3779644730092272 0.0 0.0 0.0 0.0 0.0 1.0 0.0 0.0 'Wimcycle' 2017\n",
      "  5400000]\n",
      " [0.0 -0.3779644730092272 0.0 0.0 0.0 0.0 0.0 0.0 1.0 0.0 'United' 2013\n",
      "  4500000]\n",
      " [0.0 -0.3779644730092272 0.0 0.0 0.0 1.0 0.0 0.0 0.0 0.0 'United' 2022\n",
      "  1200000]]\n"
     ]
    }
   ],
   "source": [
    "print(x_train)"
   ]
  },
  {
   "cell_type": "code",
   "execution_count": 87,
   "metadata": {},
   "outputs": [
    {
     "name": "stdout",
     "output_type": "stream",
     "text": [
      "[[0.0 -0.3779644730092272 1.0 0.0 0.0 0.0 0.0 0.0 0.0 0.0 'United' 2013\n",
      "  2300000]\n",
      " [0.0 -0.3779644730092272 0.0 0.0 0.0 0.0 0.0 0.0 0.0 1.0 'Polygon' 2014\n",
      "  1100000]]\n"
     ]
    }
   ],
   "source": [
    "print(x_test)"
   ]
  }
 ],
 "metadata": {
  "kernelspec": {
   "display_name": "Python 3",
   "language": "python",
   "name": "python3"
  },
  "language_info": {
   "codemirror_mode": {
    "name": "ipython",
    "version": 3
   },
   "file_extension": ".py",
   "mimetype": "text/x-python",
   "name": "python",
   "nbconvert_exporter": "python",
   "pygments_lexer": "ipython3",
   "version": "3.12.7"
  }
 },
 "nbformat": 4,
 "nbformat_minor": 2
}

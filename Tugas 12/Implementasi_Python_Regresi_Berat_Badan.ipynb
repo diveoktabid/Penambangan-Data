{
  "nbformat": 4,
  "nbformat_minor": 0,
  "metadata": {
    "colab": {
      "provenance": []
    },
    "kernelspec": {
      "name": "python3",
      "display_name": "Python 3"
    },
    "language_info": {
      "name": "python"
    }
  },
  "cells": [
    {
      "cell_type": "markdown",
      "source": [
        "Nama     : Dive Oktabid Fikhri\n",
        "\n",
        "NIM      : A11.2022.14202\n",
        "\n",
        "Kelompok : A11.4508"
      ],
      "metadata": {
        "id": "y76X8mkNG6Ag"
      }
    },
    {
      "cell_type": "code",
      "source": [
        "# Import Library yang diperlukan Scipy\n",
        "from scipy import stats"
      ],
      "metadata": {
        "id": "kHgJ5WUwG6Hb"
      },
      "execution_count": 1,
      "outputs": []
    },
    {
      "cell_type": "code",
      "source": [
        "# x = data tinggi badan (cm)\n",
        "x = [151,174, 138, 186, 128, 136, 179, 163, 152,131]"
      ],
      "metadata": {
        "id": "fRc2HQn_G6J9"
      },
      "execution_count": 2,
      "outputs": []
    },
    {
      "cell_type": "code",
      "source": [
        "# y = data berat badan (kg)\n",
        "y = [63,81,56,91,47,57,76,72,62,48]"
      ],
      "metadata": {
        "id": "hZ2EUD5fG6Mr"
      },
      "execution_count": 3,
      "outputs": []
    },
    {
      "cell_type": "code",
      "source": [
        "# Perform linear regression\n",
        "slope, intercept, r, p, std_err = stats.linregress(x,y)"
      ],
      "metadata": {
        "id": "_6WxVh6yG6PT"
      },
      "execution_count": 4,
      "outputs": []
    },
    {
      "cell_type": "code",
      "source": [
        "# Create a function for linear regression\n",
        "def myfunc(x):\n",
        "    return slope * x + intercept"
      ],
      "metadata": {
        "id": "kKHVBKoiG6SV"
      },
      "execution_count": 5,
      "outputs": []
    },
    {
      "cell_type": "code",
      "source": [
        "# Calculate the weight based on height 151 cm\n",
        "berat_badan = myfunc(151)"
      ],
      "metadata": {
        "id": "gyTQVMdSHYaL"
      },
      "execution_count": 6,
      "outputs": []
    },
    {
      "cell_type": "code",
      "source": [
        "# Print the calculated weight\n",
        "print(berat_badan)"
      ],
      "metadata": {
        "colab": {
          "base_uri": "https://localhost:8080/"
        },
        "id": "X5j2pjW9HYi0",
        "outputId": "01b09b24-b8f0-4153-cd8e-352910f94837"
      },
      "execution_count": 7,
      "outputs": [
        {
          "output_type": "stream",
          "name": "stdout",
          "text": [
            "63.41109074243812\n"
          ]
        }
      ]
    }
  ]
}